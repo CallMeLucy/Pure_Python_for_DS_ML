{
 "cells": [
  {
   "cell_type": "markdown",
   "metadata": {
    "collapsed": true,
    "pycharm": {
     "name": "#%% md\n"
    }
   },
   "source": [
    "Stochastic Gradient Descent:\n",
    "\n",
    "也就是说，我们可以通过不断的迭代（iteration）,去将coefficients(b)去进行优化：\n",
    "\n",
    "$$ b = b - learning \\: rate*error *x$$\n",
    "\n",
    "\n",
    "我们接下来建立一个$$y = 0.4+ 0.8*x $$"
   ]
  },
  {
   "cell_type": "code",
   "source": [
    "#make prediction\n",
    "\n",
    "def make_prediction(input_row,coefficients):\n",
    "    out_put_y_hat = coefficients[0]\n",
    "    for i in range(len(row)-1):\n",
    "        out_put_y_hat += coefficients[i+1] * input_row[i]\n",
    "    return  out_put_y_hat\n",
    "\n",
    "test_dataset = [[1,1],[2,3],[4,3],[3,2],[5,5]]\n",
    "test_coefficients = [0.4,0.8]\n",
    "\n",
    "for row in test_dataset:\n",
    "    y_hat = make_prediction(row,test_coefficients)\n",
    "    print(\"True Y value = %.3f, Our_Prediction = %.3f\"%(row[-1],y_hat))\n",
    "\n"
   ],
   "metadata": {
    "collapsed": false,
    "pycharm": {
     "name": "#%%\n",
     "is_executing": false
    }
   },
   "execution_count": 3,
   "outputs": [
    {
     "name": "stdout",
     "text": [
      "True Y value = 1.000, Our_Prediction = 1.200\n",
      "True Y value = 3.000, Our_Prediction = 2.000\n",
      "True Y value = 3.000, Our_Prediction = 3.600\n",
      "True Y value = 2.000, Our_Prediction = 2.800\n",
      "True Y value = 5.000, Our_Prediction = 4.400\n"
     ],
     "output_type": "stream"
    }
   ]
  },
  {
   "cell_type": "code",
   "execution_count": null,
   "outputs": [],
   "source": [
    "\n"
   ],
   "metadata": {
    "collapsed": false,
    "pycharm": {
     "name": "#%%\n"
    }
   }
  }
 ],
 "metadata": {
  "kernelspec": {
   "display_name": "Python 3",
   "language": "python",
   "name": "python3"
  },
  "language_info": {
   "codemirror_mode": {
    "name": "ipython",
    "version": 2
   },
   "file_extension": ".py",
   "mimetype": "text/x-python",
   "name": "python",
   "nbconvert_exporter": "python",
   "pygments_lexer": "ipython2",
   "version": "2.7.6"
  },
  "pycharm": {
   "stem_cell": {
    "cell_type": "raw",
    "source": [],
    "metadata": {
     "collapsed": false
    }
   }
  }
 },
 "nbformat": 4,
 "nbformat_minor": 0
}